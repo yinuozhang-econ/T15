{
 "cells": [
  {
   "cell_type": "code",
   "execution_count": 1,
   "id": "fc240df6",
   "metadata": {},
   "outputs": [],
   "source": [
    "# Formating\n",
    "import os \n",
    "import numpy as np\n",
    "import pandas as pd\n",
    "import re\n",
    "import matplotlib.pyplot as plt\n",
    "from pathlib import Path  \n",
    "from sklearn.linear_model import LogisticRegression, LinearRegression\n",
    "from sklearn.metrics import mean_squared_error\n",
    "from sklearn.model_selection import train_test_split, cross_val_score, RepeatedStratifiedKFold\n",
    "from sklearn.preprocessing import LabelEncoder\n",
    "import statsmodels.api as sm\n",
    "from numpy import mean\n",
    "from numpy import std"
   ]
  },
  {
   "cell_type": "code",
   "execution_count": 2,
   "id": "a1b3d68a",
   "metadata": {},
   "outputs": [
    {
     "name": "stdout",
     "output_type": "stream",
     "text": [
      "Index(['UserID', 'Gender', 'Age', 'Occupation', 'Zip-code'], dtype='object')\n",
      "Index(['UserID', 'MovieID', 'Rating', 'Timestamp'], dtype='object')\n",
      "Index(['MovieID', 'Title', 'year', 'Action', 'Adventure', 'Animation',\n",
      "       'Children's', 'Comedy', 'Crime', 'Documentary', 'Drama', 'Fantasy',\n",
      "       'Film-Noir', 'Horror', 'Musical', 'Mystery', 'Romance', 'Sci-Fi',\n",
      "       'Thriller', 'War', 'Western'],\n",
      "      dtype='object')\n"
     ]
    }
   ],
   "source": [
    "cleanPath = os.path.dirname(os.getcwd() + '/cleaned/')\n",
    "users = pd.read_csv(cleanPath + '/users.csv')\n",
    "ratings = pd.read_csv(cleanPath + '/ratings.csv')\n",
    "movies = pd.read_csv(cleanPath + '/movies.csv')\n",
    "training_rating = pd.read_csv(cleanPath + '/training_rating.csv')\n",
    "testing_rating = pd.read_csv(cleanPath + '/testing_rating.csv')\n",
    "validation_rating = pd.read_csv(cleanPath + '/validation_rating.csv')\n",
    "\n",
    "print(users.columns)\n",
    "print(ratings.columns)\n",
    "print(movies.columns)"
   ]
  },
  {
   "cell_type": "code",
   "execution_count": 3,
   "id": "c6b3f1c9",
   "metadata": {},
   "outputs": [
    {
     "name": "stdout",
     "output_type": "stream",
     "text": [
      "count    1.000209e+06\n",
      "mean     3.899080e+02\n",
      "std      3.247402e+02\n",
      "min      2.000000e+01\n",
      "25%      1.470000e+02\n",
      "50%      3.020000e+02\n",
      "75%      5.440000e+02\n",
      "max      2.314000e+03\n",
      "Name: num_movies_watched, dtype: float64\n",
      "(1000209, 5)\n",
      "[5 4 2 3 1]\n"
     ]
    }
   ],
   "source": [
    "# Check distribution of # reviews by person\n",
    "ratings['num_movies_watched'] = ratings.groupby('UserID')['MovieID'].transform('count')\n",
    "ratings.sort_values(by = 'num_movies_watched', ascending = True, inplace = True)\n",
    "print(ratings['num_movies_watched'].describe())\n",
    "print(ratings.shape)\n",
    "print(ratings['Rating'].unique())"
   ]
  },
  {
   "cell_type": "code",
   "execution_count": null,
   "id": "33836983",
   "metadata": {},
   "outputs": [],
   "source": [
    "print(users['Zip-code'].unique())\n",
    "print(users['Age'].unique())\n",
    "print(users['Occupation_encoded'].unique())\n",
    "print(users['Sex'].unique())"
   ]
  }
 ],
 "metadata": {
  "kernelspec": {
   "display_name": "Python 3 (ipykernel)",
   "language": "python",
   "name": "python3"
  },
  "language_info": {
   "codemirror_mode": {
    "name": "ipython",
    "version": 3
   },
   "file_extension": ".py",
   "mimetype": "text/x-python",
   "name": "python",
   "nbconvert_exporter": "python",
   "pygments_lexer": "ipython3",
   "version": "3.10.5"
  },
  "toc": {
   "base_numbering": 1,
   "nav_menu": {},
   "number_sections": true,
   "sideBar": true,
   "skip_h1_title": false,
   "title_cell": "Table of Contents",
   "title_sidebar": "Contents",
   "toc_cell": false,
   "toc_position": {},
   "toc_section_display": true,
   "toc_window_display": false
  }
 },
 "nbformat": 4,
 "nbformat_minor": 5
}
