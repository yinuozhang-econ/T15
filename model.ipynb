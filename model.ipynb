{
 "cells": [
  {
   "cell_type": "code",
   "execution_count": 69,
   "id": "2663fbe2",
   "metadata": {},
   "outputs": [],
   "source": [
    "# Formating\n",
    "import os \n",
    "import numpy as np\n",
    "import pandas as pd\n",
    "import re\n",
    "import matplotlib.pyplot as plt\n",
    "from pathlib import Path  \n",
    "from sklearn.linear_model import LogisticRegression, LinearRegression\n",
    "from sklearn.metrics import mean_squared_error\n",
    "from sklearn.model_selection import train_test_split, cross_val_score, RepeatedStratifiedKFold\n",
    "from sklearn.preprocessing import LabelEncoder\n",
    "import statsmodels.api as sm\n",
    "from numpy import mean\n",
    "from numpy import std"
   ]
  },
  {
   "cell_type": "code",
   "execution_count": 70,
   "id": "bd98e369",
   "metadata": {},
   "outputs": [],
   "source": [
    "def merge(user_df, rating_df, movie_df): \n",
    "    \"\"\"merge users, rating, and movies and print out shape. Rating_df change based on whether we are doing training, testing or validation   \"\"\"\n",
    "    print(rating_df.shape)\n",
    "    userRating_training = user_df.merge(rating_df, how='right', on='UserID')\n",
    "    print(userRating_training.shape)\n",
    "    userRating_training.drop(['Gender','Occupation','Occupation_encoded'], inplace = True, axis = 1)\n",
    "    df = userRating_training.merge(movie_df, how='left', on='MovieID')\n",
    "    print(df.shape)\n",
    "    return df"
   ]
  },
  {
   "cell_type": "code",
   "execution_count": 71,
   "id": "b17181df",
   "metadata": {},
   "outputs": [],
   "source": [
    "cleanPath = os.path.dirname(os.getcwd() + '/cleaned/')\n",
    "users = pd.read_csv(cleanPath + '/users.csv')\n",
    "ratings = pd.read_csv(cleanPath + '/ratings.csv')\n",
    "movies = pd.read_csv(cleanPath + '/movies.csv')\n",
    "training_rating = pd.read_csv(cleanPath + '/training_rating.csv')\n",
    "testing_rating = pd.read_csv(cleanPath + '/testing_rating.csv')\n",
    "validation_rating = pd.read_csv(cleanPath + '/validation_rating.csv')"
   ]
  },
  {
   "cell_type": "code",
   "execution_count": 72,
   "id": "44cdae94",
   "metadata": {},
   "outputs": [
    {
     "name": "stdout",
     "output_type": "stream",
     "text": [
      "Index(['UserID', 'Gender', 'Age', 'Occupation', 'Zip-code'], dtype='object')\n",
      "UserID         int64\n",
      "Gender        object\n",
      "Age            int64\n",
      "Occupation     int64\n",
      "Zip-code      object\n",
      "dtype: object\n",
      "Index(['UserID', 'MovieID', 'Rating', 'Timestamp', 'Rating_mn', 'Rating_dmn'], dtype='object')\n",
      "UserID          int64\n",
      "MovieID         int64\n",
      "Rating          int64\n",
      "Timestamp      object\n",
      "Rating_mn     float64\n",
      "Rating_dmn    float64\n",
      "dtype: object\n",
      "Index(['MovieID', 'Title', 'year', 'Action', 'Adventure', 'Animation',\n",
      "       'Children's', 'Comedy', 'Crime', 'Documentary', 'Drama', 'Fantasy',\n",
      "       'Film-Noir', 'Horror', 'Musical', 'Mystery', 'Romance', 'Sci-Fi',\n",
      "       'Thriller', 'War', 'Western'],\n",
      "      dtype='object')\n",
      "MovieID         int64\n",
      "Title          object\n",
      "year            int64\n",
      "Action          int64\n",
      "Adventure       int64\n",
      "Animation       int64\n",
      "Children's      int64\n",
      "Comedy          int64\n",
      "Crime           int64\n",
      "Documentary     int64\n",
      "Drama           int64\n",
      "Fantasy         int64\n",
      "Film-Noir       int64\n",
      "Horror          int64\n",
      "Musical         int64\n",
      "Mystery         int64\n",
      "Romance         int64\n",
      "Sci-Fi          int64\n",
      "Thriller        int64\n",
      "War             int64\n",
      "Western         int64\n",
      "dtype: object\n"
     ]
    }
   ],
   "source": [
    "print(users.columns)\n",
    "print(users.dtypes)\n",
    "\n",
    "print(ratings.columns)\n",
    "print(ratings.dtypes)\n",
    "\n",
    "print(movies.columns)\n",
    "print(movies.dtypes)"
   ]
  },
  {
   "cell_type": "code",
   "execution_count": 73,
   "id": "c88513a4",
   "metadata": {},
   "outputs": [
    {
     "name": "stdout",
     "output_type": "stream",
     "text": [
      "[2000 1999 1998 1997 1996 1995 1994 1993 1992 1991 1990 1989 1988 1987\n",
      " 1986 1985 1984 1983 1982 1981 1980 1979 1978 1977 1976 1975 1974 1973\n",
      " 1972 1971 1970 1969 1968 1967 1966 1965 1964 1963 1962 1961 1960 1959\n",
      " 1958 1957 1956 1955 1954 1953 1952 1951 1950 1949 1948 1947 1946 1945\n",
      " 1944 1943 1942 1941 1940 1939 1938 1937 1936 1935 1934 1933 1932 1931\n",
      " 1930 1929 1928 1927 1926 1925 1923 1922 1921 1920 1919]\n",
      "[81 80 79 78 77 76 75 74 73 72 71 70 69 68 67 66 65 64 63 62 61 60 59 58\n",
      " 57 56 55 54 53 52 51 50 49 48 47 46 45 44 43 42 41 40 39 38 37 36 35 34\n",
      " 33 32 31 30 29 28 27 26 25 24 23 22 21 20 19 18 17 16 15 14 13 12 11 10\n",
      "  9  8  7  6  4  3  2  1  0]\n"
     ]
    }
   ],
   "source": [
    "movies['year'] = movies['year']-1919\n",
    "print(movies.year.unique())"
   ]
  },
  {
   "cell_type": "code",
   "execution_count": 74,
   "id": "41e55425",
   "metadata": {},
   "outputs": [
    {
     "name": "stdout",
     "output_type": "stream",
     "text": [
      "Index(['UserID', 'Gender', 'Age', 'Occupation', 'Zip-code', 'Sex',\n",
      "       'Occupation_encoded', 'Occ_K-12 student', 'Occ_academic/educator',\n",
      "       'Occ_artist', 'Occ_clerical/admin', 'Occ_college/grad student',\n",
      "       'Occ_customer service', 'Occ_doctor/health care',\n",
      "       'Occ_executive/managerial', 'Occ_farmer', 'Occ_homemaker', 'Occ_lawyer',\n",
      "       'Occ_other', 'Occ_programmer', 'Occ_retired', 'Occ_sales/marketing',\n",
      "       'Occ_scientist', 'Occ_self-employed', 'Occ_technician/engineer',\n",
      "       'Occ_tradesman/craftsman', 'Occ_unemployed', 'Occ_writer'],\n",
      "      dtype='object')\n"
     ]
    }
   ],
   "source": [
    "# Encode genders and occupation\n",
    "users['Sex'] = np.where(users['Gender'] == 'M',1,0)\n",
    "users['Occupation_encoded'] = users['Occupation'].map({0:\"other\", \n",
    "\t1:  \"academic/educator\",\n",
    "\t2:  \"artist\",\n",
    "\t3:  \"clerical/admin\",\n",
    "\t4:  \"college/grad student\",\n",
    "\t5:  \"customer service\",\n",
    "\t6:  \"doctor/health care\",\n",
    "\t7:  \"executive/managerial\",\n",
    "\t8:  \"farmer\",\n",
    "\t9:  \"homemaker\",\n",
    "\t10:  \"K-12 student\",\n",
    "\t11:  \"lawyer\",\n",
    "\t12:  \"programmer\",\n",
    "\t13:  \"retired\",\n",
    "\t14:  \"sales/marketing\",\n",
    "\t15:  \"scientist\",\n",
    "\t16:  \"self-employed\",\n",
    "\t17:  \"technician/engineer\",\n",
    "\t18:  \"tradesman/craftsman\",\n",
    "\t19:  \"unemployed\",\n",
    "\t20:  \"writer\"})\n",
    "pd.get_dummies(users['Occupation_encoded'], prefix = 'Occ')\n",
    "users = pd.concat([users,pd.get_dummies(users['Occupation_encoded'], prefix = 'Occ')], axis=1)\n",
    "print(users.columns)"
   ]
  },
  {
   "cell_type": "code",
   "execution_count": 75,
   "id": "c6d808ea",
   "metadata": {},
   "outputs": [
    {
     "name": "stdout",
     "output_type": "stream",
     "text": [
      "(969163, 6)\n",
      "(969163, 33)\n",
      "(969163, 50)\n",
      "(28346, 6)\n",
      "(28346, 33)\n",
      "(28346, 50)\n",
      "(2700, 6)\n",
      "(2700, 33)\n",
      "(2700, 50)\n"
     ]
    }
   ],
   "source": [
    "# merge user, training_rating, and movie\n",
    "df_training = merge(users,training_rating,movies)\n",
    "# merge user, testing_rating, and movie \n",
    "df_testing = merge(users,testing_rating,movies)\n",
    "# merge user, validation_rating and movie\n",
    "df_validation = merge(users,validation_rating,movies)"
   ]
  },
  {
   "cell_type": "code",
   "execution_count": 78,
   "id": "3ad968cf",
   "metadata": {},
   "outputs": [
    {
     "name": "stdout",
     "output_type": "stream",
     "text": [
      "(997509, 43)\n",
      "[80 66 78 31 79 81 64 43 56 77 58 20 69 71 39 46 70 23 76 45 63 40 67 74\n",
      " 61 22 68 18 28 72 73 53 44 21 48 35  6 11 62 54 49 51 57 60 47 75 55 65\n",
      " 36 29 27 25 38 42 32 34 15 30 37 52 59 33 14 50  1 24 26 41  0 12 16  3\n",
      " 17 19  7 13  8  2  9  4 10]\n"
     ]
    }
   ],
   "source": [
    "columnToDrop = ['UserID','MovieID','Timestamp','Rating_mn','Rating_dmn','Title','Zip-code','Rating']\n",
    "X_train = df_training.drop(labels=columnToDrop, axis=1)\n",
    "X_test = df_testing.drop(labels=columnToDrop, axis=1)\n",
    "X = pd.concat([X_train,X_test])\n",
    "print(X.shape)\n",
    "X_validation = df_validation.drop(labels=columnToDrop, axis=1)\n",
    "\n",
    "y_train = df_training.Rating\n",
    "y_test = df_testing.Rating\n",
    "y = pd.concat([y_train,y_test])\n",
    "y_validation = df_validation.Rating\n",
    "\n",
    "y_train_dmn = df_training.Rating_dmn\n",
    "y_test_dmn = df_testing.Rating_dmn\n",
    "y_dmn = pd.concat([y_train_dmn,y_test_dmn])\n",
    "print(X_train.columns)\n",
    "y_validation_dmn = df_validation.Rating_dmn"
   ]
  },
  {
   "cell_type": "code",
   "execution_count": 83,
   "id": "7fdfc3e1",
   "metadata": {},
   "outputs": [
    {
     "name": "stdout",
     "output_type": "stream",
     "text": [
      "Root Mean Squared Error: 1.4906735319215227\n",
      "R^2 for training set: 0.0470700328012551\n",
      "R^2 for test set: -0.10976878218259678\n",
      "Mean RMSE: 1.008 (0.105)\n",
      "Mean R^2: 0.045 (0.007)\n"
     ]
    }
   ],
   "source": [
    "# define the linear regression model\n",
    "linearReg_model = LinearRegression()\n",
    "linearReg_model.fit(X_train,y_train_dmn)\n",
    "y_pred_dmn = linearReg_model.predict(X_test)\n",
    "# Compute and print R^2 and RMSE\n",
    "rmse = np.sqrt(mean_squared_error(y_test_dmn,y_pred_dmn))\n",
    "print(\"Root Mean Squared Error on Testing Set: {}\".format(rmse))\n",
    "print(\"R^2 for training set: {}\".format(linearReg_model.score(X_train, y_train_dmn)))\n",
    "print(\"R^2 for test set: {}\".format(linearReg_model.score(X_test, y_test_dmn)))\n",
    "\n",
    "\n",
    "linearReg_RMSE = cross_val_score(linearReg_model, X, y_dmn, scoring='neg_mean_squared_error', cv=10, n_jobs=-1)\n",
    "print('Mean RMSE: %.3f (%.3f)' % (-mean(linearReg_RMSE), std(linearReg_RMSE)))\n",
    "linearReg_r2 = cross_val_score(linearReg_model, X, y_dmn, scoring='r2', cv=10, n_jobs=-1)\n",
    "print('Mean R^2: %.3f (%.3f)' % (mean(linearReg_r2), std(linearReg_r2)))\n"
   ]
  },
  {
   "cell_type": "code",
   "execution_count": 85,
   "id": "099b174f",
   "metadata": {},
   "outputs": [
    {
     "name": "stdout",
     "output_type": "stream",
     "text": [
      "Mean RMSE: 1.182 (0.072)\n"
     ]
    }
   ],
   "source": [
    "# define the multinomial logit model \n",
    "multiLogit_model = LogisticRegression(multi_class='multinomial', solver='sag', max_iter=200)\n",
    "multiLogit_model.fit(X_train,y_train)\n",
    "y_pred = multiLogit_model.predict(X_test)"
   ]
  },
  {
   "cell_type": "code",
   "execution_count": 86,
   "id": "f6e08652",
   "metadata": {},
   "outputs": [
    {
     "name": "stdout",
     "output_type": "stream",
     "text": [
      "Root Mean Squared Error on Testing Set: 1.6396622223755417\n",
      "Mean RMSE: 1.182 (0.072)\n"
     ]
    }
   ],
   "source": [
    "# Compute RMSE on testing set\n",
    "rmse = np.sqrt(mean_squared_error(y_test,y_pred))\n",
    "print(\"Root Mean Squared Error on Testing Set: {}\".format(rmse))\n",
    "# Compute mean RMSE\n",
    "multiLogit_RMSE = cross_val_score(multiLogit_model, X, y, scoring='neg_mean_squared_error', cv=10, n_jobs=-1)\n",
    "print('Mean RMSE: %.3f (%.3f)' % (-mean(multiLogit_RMSE), std(multiLogit_RMSE)))\n",
    "# below: https://machinelearningmastery.com/multinomial-logistic-regression-with-python/\n",
    "# define the model evaluation procedure\n",
    "# cv = RepeatedStratifiedKFold(n_splits=10, n_repeats=3, random_state=1)"
   ]
  },
  {
   "cell_type": "code",
   "execution_count": 87,
   "id": "1301a8b2",
   "metadata": {},
   "outputs": [
    {
     "name": "stdout",
     "output_type": "stream",
     "text": [
      "Index(['Age', 'Sex', 'Occ_K-12 student', 'Occ_academic/educator', 'Occ_artist',\n",
      "       'Occ_clerical/admin', 'Occ_college/grad student',\n",
      "       'Occ_customer service', 'Occ_doctor/health care',\n",
      "       'Occ_executive/managerial', 'Occ_farmer', 'Occ_homemaker', 'Occ_lawyer',\n",
      "       'Occ_other', 'Occ_programmer', 'Occ_retired', 'Occ_sales/marketing',\n",
      "       'Occ_scientist', 'Occ_self-employed', 'Occ_technician/engineer',\n",
      "       'Occ_tradesman/craftsman', 'Occ_unemployed', 'Occ_writer', 'Rating_mn',\n",
      "       'year', 'Action', 'Adventure', 'Animation', 'Children's', 'Comedy',\n",
      "       'Crime', 'Documentary', 'Drama', 'Fantasy', 'Film-Noir', 'Horror',\n",
      "       'Musical', 'Mystery', 'Romance', 'Sci-Fi', 'Thriller', 'War',\n",
      "       'Western'],\n",
      "      dtype='object')\n"
     ]
    }
   ],
   "source": [
    "print(X_validation.columns)"
   ]
  },
  {
   "cell_type": "code",
   "execution_count": 111,
   "id": "8959aa2e",
   "metadata": {
    "scrolled": true
   },
   "outputs": [
    {
     "name": "stdout",
     "output_type": "stream",
     "text": [
      "    UserID                                              Title\n",
      "0     1018  Star Wars: Episode VI - Return of the Jedi (1983)\n",
      "1     1018                            Fatal Attraction (1987)\n",
      "2     1018                   Silence of the Lambs, The (1991)\n",
      "3     1018                  Terminator 2: Judgment Day (1991)\n",
      "4     1018          Star Wars: Episode IV - A New Hope (1977)\n",
      "5     2106                             Say Anything... (1989)\n",
      "6     2106                       2001: A Space Odyssey (1968)\n",
      "7     2106                               Roman Holiday (1953)\n",
      "8     2106                          Christmas Story, A (1983)\n",
      "9     2106                              Bodyguard, The (1992)\n",
      "10    2484                                  Casablanca (1942)\n",
      "11    2484                          Gone with the Wind (1939)\n",
      "12    2484                               Flying Tigers (1942)\n",
      "13    2484                              Mister Roberts (1955)\n",
      "14    2484              All Quiet on the Western Front (1930)\n",
      "15    4448                      Breakfast at Tiffany's (1961)\n",
      "16    4448                                Patriot, The (2000)\n",
      "17    4448           Ghost Dog: The Way of the Samurai (1999)\n",
      "18    4448                                  GoodFellas (1990)\n",
      "19    4448                           L.A. Confidential (1997)\n",
      "20    5702                      Breakfast at Tiffany's (1961)\n",
      "21    5702                                 Rear Window (1954)\n",
      "22    5702                            Schindler's List (1993)\n",
      "23    5702                               Belle de jour (1967)\n",
      "24    5702                                     Yojimbo (1961)\n"
     ]
    }
   ],
   "source": [
    "# Logit on validation set\n",
    "y_validation = multiLogit_model.predict(X_validation)\n",
    "df_validation['y_logit'] = pd.Series(y_validation)\n",
    "# print(df_validation[['y_logit','Rating']])\n",
    "logitTop = df_validation.sort_values(by=['UserID','y_logit'], ascending=[True,False]).groupby('UserID').head(5)\n",
    "columnToKeep = ['UserID','y_logit','MovieID','Rating','Action', 'Adventure', 'Animation', \"Children's\", 'Comedy',\n",
    "       'Crime', 'Documentary', 'Drama', 'Fantasy', 'Film-Noir', 'Horror',\n",
    "       'Musical', 'Mystery', 'Romance', 'Sci-Fi', 'Thriller', 'War',\n",
    "       'Western']\n",
    "logitTop = logitTop[columnToKeep]\n",
    "logitTop = logitTop.merge(movies, how='left', on='MovieID')"
   ]
  },
  {
   "cell_type": "code",
   "execution_count": null,
   "id": "7c048150",
   "metadata": {},
   "outputs": [],
   "source": []
  },
  {
   "cell_type": "code",
   "execution_count": null,
   "id": "d8a92a6c",
   "metadata": {},
   "outputs": [],
   "source": [
    "# Linear regression on validation set\n",
    "y_validation_dmn = linearReg_model.predict(X_validation)\n",
    "df_validation['y_validation_dmn'] = pd.Series(y_validation_dmn)\n",
    "df_validation['y_linear'] = df_validation['y_validation_dmn']+df_validation['Rating_mn']\n",
    "print(df_validation[['y_linear','Rating']])\n"
   ]
  },
  {
   "cell_type": "code",
   "execution_count": 61,
   "id": "ed6e932a",
   "metadata": {},
   "outputs": [
    {
     "name": "stdout",
     "output_type": "stream",
     "text": [
      "Predicted Rating: 4. Actual Rating: 5\n"
     ]
    },
    {
     "name": "stderr",
     "output_type": "stream",
     "text": [
      "/Library/Frameworks/Python.framework/Versions/3.10/lib/python3.10/site-packages/sklearn/base.py:450: UserWarning: X does not have valid feature names, but LogisticRegression was fitted with feature names\n",
      "  warnings.warn(\n"
     ]
    }
   ],
   "source": [
    "index = 5555\n",
    "row = X.iloc[index]\n",
    "yhat = model.predict([row])\n",
    "yactual = y.iloc[index]\n",
    "print('Predicted Rating: %d. Actual Rating: %d' % (yhat[0], yactual))"
   ]
  }
 ],
 "metadata": {
  "kernelspec": {
   "display_name": "Python 3 (ipykernel)",
   "language": "python",
   "name": "python3"
  },
  "language_info": {
   "codemirror_mode": {
    "name": "ipython",
    "version": 3
   },
   "file_extension": ".py",
   "mimetype": "text/x-python",
   "name": "python",
   "nbconvert_exporter": "python",
   "pygments_lexer": "ipython3",
   "version": "3.10.5"
  },
  "toc": {
   "base_numbering": 1,
   "nav_menu": {},
   "number_sections": true,
   "sideBar": true,
   "skip_h1_title": false,
   "title_cell": "Table of Contents",
   "title_sidebar": "Contents",
   "toc_cell": false,
   "toc_position": {},
   "toc_section_display": true,
   "toc_window_display": false
  }
 },
 "nbformat": 4,
 "nbformat_minor": 5
}
