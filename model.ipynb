{
 "cells": [
  {
   "cell_type": "code",
   "execution_count": 146,
   "id": "2663fbe2",
   "metadata": {},
   "outputs": [],
   "source": [
    "# Formating\n",
    "import os \n",
    "import numpy as np\n",
    "import pandas as pd\n",
    "import re\n",
    "import matplotlib.pyplot as plt\n",
    "from pathlib import Path  \n",
    "from sklearn.linear_model import LogisticRegression, LinearRegression\n",
    "from sklearn.metrics import mean_squared_error\n",
    "from sklearn.model_selection import train_test_split, cross_val_score, RepeatedStratifiedKFold\n",
    "from sklearn.preprocessing import LabelEncoder\n",
    "import statsmodels.api as sm\n",
    "from numpy import mean\n",
    "from numpy import std"
   ]
  },
  {
   "cell_type": "code",
   "execution_count": 147,
   "id": "2ba76894",
   "metadata": {},
   "outputs": [],
   "source": [
    "def merge(user_df, rating_df, movie_df): \n",
    "    \"\"\"merge users, rating, and movies and print out shape. Rating_df change based on whether we are doing training, testing or validation   \"\"\"\n",
    "    print(rating_df.shape)\n",
    "    userRating_training = user_df.merge(rating_df, how='right', on='UserID')\n",
    "    print(userRating_training.shape)\n",
    "    userRating_training.drop(['Gender','Occupation','Occupation_encoded'], inplace = True, axis = 1)\n",
    "    df = userRating_training.merge(movie_df, how='left', on='MovieID')\n",
    "    print(df.shape)\n",
    "    return df"
   ]
  },
  {
   "cell_type": "code",
   "execution_count": 148,
   "id": "b17181df",
   "metadata": {},
   "outputs": [],
   "source": [
    "cleanPath = os.path.dirname(os.getcwd() + '/cleaned/')\n",
    "users = pd.read_csv(cleanPath + '/users.csv')\n",
    "ratings = pd.read_csv(cleanPath + '/ratings.csv')\n",
    "movies = pd.read_csv(cleanPath + '/movies.csv')\n",
    "training_rating = pd.read_csv(cleanPath + '/training_rating.csv')\n",
    "testing_rating = pd.read_csv(cleanPath + '/testing_rating.csv')\n",
    "validation_rating = pd.read_csv(cleanPath + '/validation_rating.csv')"
   ]
  },
  {
   "cell_type": "code",
   "execution_count": 149,
   "id": "382c1aeb",
   "metadata": {},
   "outputs": [
    {
     "name": "stdout",
     "output_type": "stream",
     "text": [
      "Index(['UserID', 'Gender', 'Age', 'Occupation', 'Zip-code'], dtype='object')\n",
      "UserID         int64\n",
      "Gender        object\n",
      "Age            int64\n",
      "Occupation     int64\n",
      "Zip-code      object\n",
      "dtype: object\n",
      "Index(['UserID', 'MovieID', 'Rating', 'Timestamp', 'Rating_mn', 'Rating_dmn'], dtype='object')\n",
      "UserID          int64\n",
      "MovieID         int64\n",
      "Rating          int64\n",
      "Timestamp      object\n",
      "Rating_mn     float64\n",
      "Rating_dmn    float64\n",
      "dtype: object\n",
      "Index(['MovieID', 'Title', 'year', 'Action', 'Adventure', 'Animation',\n",
      "       'Children's', 'Comedy', 'Crime', 'Documentary', 'Drama', 'Fantasy',\n",
      "       'Film-Noir', 'Horror', 'Musical', 'Mystery', 'Romance', 'Sci-Fi',\n",
      "       'Thriller', 'War', 'Western'],\n",
      "      dtype='object')\n",
      "MovieID         int64\n",
      "Title          object\n",
      "year            int64\n",
      "Action          int64\n",
      "Adventure       int64\n",
      "Animation       int64\n",
      "Children's      int64\n",
      "Comedy          int64\n",
      "Crime           int64\n",
      "Documentary     int64\n",
      "Drama           int64\n",
      "Fantasy         int64\n",
      "Film-Noir       int64\n",
      "Horror          int64\n",
      "Musical         int64\n",
      "Mystery         int64\n",
      "Romance         int64\n",
      "Sci-Fi          int64\n",
      "Thriller        int64\n",
      "War             int64\n",
      "Western         int64\n",
      "dtype: object\n"
     ]
    }
   ],
   "source": [
    "print(users.columns)\n",
    "print(users.dtypes)\n",
    "\n",
    "print(ratings.columns)\n",
    "print(ratings.dtypes)\n",
    "\n",
    "print(movies.columns)\n",
    "print(movies.dtypes)"
   ]
  },
  {
   "cell_type": "code",
   "execution_count": 150,
   "id": "79d71011",
   "metadata": {},
   "outputs": [
    {
     "name": "stdout",
     "output_type": "stream",
     "text": [
      "[81 80 79 78 77 76 75 74 73 72 71 70 69 68 67 66 65 64 63 62 61 60 59 58\n",
      " 57 56 55 54 53 52 51 50 49 48 47 46 45 44 43 42 41 40 39 38 37 36 35 34\n",
      " 33 32 31 30 29 28 27 26 25 24 23 22 21 20 19 18 17 16 15 14 13 12 11 10\n",
      "  9  8  7  6  4  3  2  1  0]\n"
     ]
    }
   ],
   "source": [
    "movies['year'] = movies['year']-1919\n",
    "print(movies.year.unique())"
   ]
  },
  {
   "cell_type": "code",
   "execution_count": 151,
   "id": "41e55425",
   "metadata": {},
   "outputs": [
    {
     "name": "stdout",
     "output_type": "stream",
     "text": [
      "Index(['UserID', 'Gender', 'Age', 'Occupation', 'Zip-code', 'Sex',\n",
      "       'Occupation_encoded', 'Occ_K-12 student', 'Occ_academic/educator',\n",
      "       'Occ_artist', 'Occ_clerical/admin', 'Occ_college/grad student',\n",
      "       'Occ_customer service', 'Occ_doctor/health care',\n",
      "       'Occ_executive/managerial', 'Occ_farmer', 'Occ_homemaker', 'Occ_lawyer',\n",
      "       'Occ_other', 'Occ_programmer', 'Occ_retired', 'Occ_sales/marketing',\n",
      "       'Occ_scientist', 'Occ_self-employed', 'Occ_technician/engineer',\n",
      "       'Occ_tradesman/craftsman', 'Occ_unemployed', 'Occ_writer'],\n",
      "      dtype='object')\n"
     ]
    }
   ],
   "source": [
    "# Encode genders and occupation\n",
    "users['Sex'] = np.where(users['Gender'] == 'M',1,0)\n",
    "users['Occupation_encoded'] = users['Occupation'].map({0:\"other\", \n",
    "\t1:  \"academic/educator\",\n",
    "\t2:  \"artist\",\n",
    "\t3:  \"clerical/admin\",\n",
    "\t4:  \"college/grad student\",\n",
    "\t5:  \"customer service\",\n",
    "\t6:  \"doctor/health care\",\n",
    "\t7:  \"executive/managerial\",\n",
    "\t8:  \"farmer\",\n",
    "\t9:  \"homemaker\",\n",
    "\t10:  \"K-12 student\",\n",
    "\t11:  \"lawyer\",\n",
    "\t12:  \"programmer\",\n",
    "\t13:  \"retired\",\n",
    "\t14:  \"sales/marketing\",\n",
    "\t15:  \"scientist\",\n",
    "\t16:  \"self-employed\",\n",
    "\t17:  \"technician/engineer\",\n",
    "\t18:  \"tradesman/craftsman\",\n",
    "\t19:  \"unemployed\",\n",
    "\t20:  \"writer\"})\n",
    "pd.get_dummies(users['Occupation_encoded'], prefix = 'Occ')\n",
    "users = pd.concat([users,pd.get_dummies(users['Occupation_encoded'], prefix = 'Occ')], axis=1)\n",
    "print(users.columns)"
   ]
  },
  {
   "cell_type": "code",
   "execution_count": 152,
   "id": "249f6ed8",
   "metadata": {},
   "outputs": [
    {
     "name": "stdout",
     "output_type": "stream",
     "text": [
      "(969163, 6)\n",
      "(969163, 33)\n",
      "(969163, 50)\n",
      "(28346, 6)\n",
      "(28346, 33)\n",
      "(28346, 50)\n",
      "(2700, 6)\n",
      "(2700, 33)\n",
      "(2700, 50)\n"
     ]
    }
   ],
   "source": [
    "# merge user, training_rating, and movie\n",
    "df_training = merge(users,training_rating,movies)\n",
    "# merge user, testing_rating, and movie \n",
    "df_testing = merge(users,testing_rating,movies)\n",
    "# merge user, validation_rating and movie\n",
    "df_validation = merge(users,validation_rating,movies)"
   ]
  },
  {
   "cell_type": "code",
   "execution_count": 153,
   "id": "fd10cc23",
   "metadata": {},
   "outputs": [
    {
     "name": "stdout",
     "output_type": "stream",
     "text": [
      "(997509, 42)\n",
      "Index(['Age', 'Sex', 'Occ_K-12 student', 'Occ_academic/educator', 'Occ_artist',\n",
      "       'Occ_clerical/admin', 'Occ_college/grad student',\n",
      "       'Occ_customer service', 'Occ_doctor/health care',\n",
      "       'Occ_executive/managerial', 'Occ_farmer', 'Occ_homemaker', 'Occ_lawyer',\n",
      "       'Occ_other', 'Occ_programmer', 'Occ_retired', 'Occ_sales/marketing',\n",
      "       'Occ_scientist', 'Occ_self-employed', 'Occ_technician/engineer',\n",
      "       'Occ_tradesman/craftsman', 'Occ_unemployed', 'Occ_writer', 'year',\n",
      "       'Action', 'Adventure', 'Animation', 'Children's', 'Comedy', 'Crime',\n",
      "       'Documentary', 'Drama', 'Fantasy', 'Film-Noir', 'Horror', 'Musical',\n",
      "       'Mystery', 'Romance', 'Sci-Fi', 'Thriller', 'War', 'Western'],\n",
      "      dtype='object')\n"
     ]
    }
   ],
   "source": [
    "columnToDrop = ['UserID','MovieID','Timestamp','Rating_mn','Rating_dmn','Title','Zip-code','Rating']\n",
    "X_train = df_training.drop(labels=columnToDrop, axis=1)\n",
    "X_test = df_testing.drop(labels=columnToDrop, axis=1)\n",
    "X = pd.concat([X_train,X_test])\n",
    "print(X.shape)\n",
    "X_validation = df_validation.drop(labels=columnToDrop, axis=1)\n",
    "\n",
    "y_train = df_training.Rating\n",
    "y_test = df_testing.Rating\n",
    "y = pd.concat([y_train,y_test])\n",
    "y_validation = df_validation.Rating\n",
    "\n",
    "y_train_dmn = df_training.Rating_dmn\n",
    "y_test_dmn = df_testing.Rating_dmn\n",
    "y_dmn = pd.concat([y_train_dmn,y_test_dmn])\n",
    "print(X_train.columns)\n",
    "y_validation_dmn = df_validation.Rating_dmn"
   ]
  },
  {
   "cell_type": "markdown",
   "id": "83e93c0f",
   "metadata": {},
   "source": [
    "## Employ model "
   ]
  },
  {
   "cell_type": "code",
   "execution_count": 154,
   "id": "e02d4b3f",
   "metadata": {},
   "outputs": [
    {
     "name": "stdout",
     "output_type": "stream",
     "text": [
      "Root Mean Squared Error on Testing Set: 1.4936471824689381\n",
      "R^2 for training set: 0.046980199039115655\n",
      "R^2 for test set: -0.11420081377254054\n",
      "Mean RMSE: 1.009 (0.106)\n",
      "Mean R^2: 0.045 (0.007)\n"
     ]
    }
   ],
   "source": [
    "# define the linear regression model\n",
    "linearReg_model = LinearRegression()\n",
    "linearReg_model.fit(X_train,y_train_dmn)\n",
    "y_pred_dmn = linearReg_model.predict(X_test)\n",
    "# Compute and print R^2 and RMSE\n",
    "rmse = np.sqrt(mean_squared_error(y_test_dmn,y_pred_dmn))\n",
    "print(\"Root Mean Squared Error on Testing Set: {}\".format(rmse))\n",
    "print(\"R^2 for training set: {}\".format(linearReg_model.score(X_train, y_train_dmn)))\n",
    "print(\"R^2 for test set: {}\".format(linearReg_model.score(X_test, y_test_dmn)))\n",
    "\n",
    "\n",
    "linearReg_RMSE = cross_val_score(linearReg_model, X, y_dmn, scoring='neg_mean_squared_error', cv=10, n_jobs=-1)\n",
    "print('Mean RMSE: %.3f (%.3f)' % (-mean(linearReg_RMSE), std(linearReg_RMSE)))\n",
    "linearReg_r2 = cross_val_score(linearReg_model, X, y_dmn, scoring='r2', cv=10, n_jobs=-1)\n",
    "print('Mean R^2: %.3f (%.3f)' % (mean(linearReg_r2), std(linearReg_r2)))\n"
   ]
  },
  {
   "cell_type": "code",
   "execution_count": 155,
   "id": "70d9a6ec",
   "metadata": {},
   "outputs": [],
   "source": [
    "# define the multinomial logit model \n",
    "multiLogit_model = LogisticRegression(multi_class='multinomial', solver='sag', max_iter=200)\n",
    "multiLogit_model.fit(X_train,y_train)\n",
    "y_pred = multiLogit_model.predict(X_test)"
   ]
  },
  {
   "cell_type": "code",
   "execution_count": 156,
   "id": "6417fe2e",
   "metadata": {},
   "outputs": [
    {
     "name": "stdout",
     "output_type": "stream",
     "text": [
      "Root Mean Squared Error on Testing Set: 1.6027233754776293\n",
      "Mean RMSE: 1.392 (0.011)\n"
     ]
    }
   ],
   "source": [
    "# Compute RMSE on testing set\n",
    "rmse = np.sqrt(mean_squared_error(y_test,y_pred))\n",
    "print(\"Root Mean Squared Error on Testing Set: {}\".format(rmse))\n",
    "# Compute mean RMSE\n",
    "multiLogit_RMSE = cross_val_score(multiLogit_model, X, y, scoring='neg_mean_squared_error', cv=10, n_jobs=-1)\n",
    "print('Mean RMSE: %.3f (%.3f)' % (-mean(multiLogit_RMSE), std(multiLogit_RMSE)))\n",
    "# below: https://machinelearningmastery.com/multinomial-logistic-regression-with-python/\n",
    "# define the model evaluation procedure\n",
    "# cv = RepeatedStratifiedKFold(n_splits=10, n_repeats=3, random_state=1)"
   ]
  },
  {
   "cell_type": "code",
   "execution_count": 180,
   "id": "ea773a0c",
   "metadata": {},
   "outputs": [
    {
     "name": "stdout",
     "output_type": "stream",
     "text": [
      "(2700,)\n",
      "      UserID  y_validation                                              Title  \\\n",
      "9       1018             5  Star Wars: Episode V - The Empire Strikes Back...   \n",
      "24      1018             5                              Godfather, The (1972)   \n",
      "31      1018             5                                       Glory (1989)   \n",
      "35      1018             5                           Full Metal Jacket (1987)   \n",
      "76      1018             5                       To Kill a Mockingbird (1962)   \n",
      "244     2106             5                       It's a Wonderful Life (1946)   \n",
      "245     2106             5                Mr. Smith Goes to Washington (1939)   \n",
      "444     2106             5                   Phantom of the Opera, The (1943)   \n",
      "450     2106             5             Snow White and the Seven Dwarfs (1937)   \n",
      "551     2106             5                      Miracle on 34th Street (1947)   \n",
      "1029    2484             5                          Invisible Man, The (1933)   \n",
      "1033    2484             5                              Bank Dick, The (1940)   \n",
      "1035    2484             5                                  Casablanca (1942)   \n",
      "1037    2484             5                          Lawrence of Arabia (1962)   \n",
      "1038    2484             5                                     Platoon (1986)   \n",
      "1633    4448             5                                    Mephisto (1981)   \n",
      "1637    4448             5  Star Wars: Episode V - The Empire Strikes Back...   \n",
      "1729    4448             5                              Apocalypse Now (1979)   \n",
      "1749    4448             5                            Deer Hunter, The (1978)   \n",
      "1771    4448             5  Nosferatu (Nosferatu, eine Symphonie des Graue...   \n",
      "2603    5702             5                                   Kagemusha (1980)   \n",
      "2610    5702             5                               Touch of Evil (1958)   \n",
      "2612    5702             5                               All About Eve (1950)   \n",
      "2623    5702             5              All Quiet on the Western Front (1930)   \n",
      "2637    5702             5                               Grifters, The (1990)   \n",
      "\n",
      "      Rating  \n",
      "9          5  \n",
      "24         5  \n",
      "31         4  \n",
      "35         3  \n",
      "76         5  \n",
      "244        5  \n",
      "245        5  \n",
      "444        4  \n",
      "450        2  \n",
      "551        4  \n",
      "1029       3  \n",
      "1033       3  \n",
      "1035       4  \n",
      "1037       3  \n",
      "1038       5  \n",
      "1633       5  \n",
      "1637       5  \n",
      "1729       5  \n",
      "1749       5  \n",
      "1771       5  \n",
      "2603       5  \n",
      "2610       3  \n",
      "2612       4  \n",
      "2623       4  \n",
      "2637       4  \n"
     ]
    }
   ],
   "source": [
    "# Logit on validation set\n",
    "y_validation = multiLogit_model.predict(X_validation)\n",
    "print(y_validation.shape)\n",
    "finalOutput = df_validation\n",
    "finalOutput['y_validation'] = y_validation\n",
    "finalOutput = finalOutput.sort_values(by=['UserID','y_validation'], ascending=[True,False]).groupby('UserID').head(5)\n",
    "print(finalOutput[['UserID','y_validation','Title','Rating']])"
   ]
  },
  {
   "cell_type": "markdown",
   "id": "a966c41c",
   "metadata": {},
   "source": [
    "## Generate recommendation on all movies"
   ]
  },
  {
   "cell_type": "code",
   "execution_count": 181,
   "id": "ff353c33",
   "metadata": {},
   "outputs": [
    {
     "name": "stdout",
     "output_type": "stream",
     "text": [
      "(5, 52)\n"
     ]
    }
   ],
   "source": [
    "# Get df with validation users charactersitics and all movie info\n",
    "df = df_validation.groupby('UserID', as_index=False).nth(0)\n",
    "df.merge(movies, how='cross')\n",
    "print(df.shape)"
   ]
  },
  {
   "cell_type": "code",
   "execution_count": 158,
   "id": "5f560ffc",
   "metadata": {
    "scrolled": true
   },
   "outputs": [],
   "source": [
    "logitTop = df_validation.sort_values(by=['UserID','y_logit'], ascending=[True,False]).groupby('UserID').head(5)\n",
    "columnToKeep = ['UserID','y_logit','MovieID','Rating','Action', 'Adventure', 'Animation', \"Children's\", 'Comedy',\n",
    "       'Crime', 'Documentary', 'Drama', 'Fantasy', 'Film-Noir', 'Horror',\n",
    "       'Musical', 'Mystery', 'Romance', 'Sci-Fi', 'Thriller', 'War',\n",
    "       'Western']\n",
    "logitTop = logitTop[columnToKeep]\n",
    "logitTop = logitTop.merge(movies, how='left', on='MovieID')"
   ]
  },
  {
   "cell_type": "code",
   "execution_count": 165,
   "id": "4472f863",
   "metadata": {
    "scrolled": true
   },
   "outputs": [
    {
     "name": "stdout",
     "output_type": "stream",
     "text": [
      "Index(['Age', 'Sex', 'Occ_K-12 student', 'Occ_academic/educator', 'Occ_artist',\n",
      "       'Occ_clerical/admin', 'Occ_college/grad student',\n",
      "       'Occ_customer service', 'Occ_doctor/health care',\n",
      "       'Occ_executive/managerial', 'Occ_farmer', 'Occ_homemaker', 'Occ_lawyer',\n",
      "       'Occ_other', 'Occ_programmer', 'Occ_retired', 'Occ_sales/marketing',\n",
      "       'Occ_scientist', 'Occ_self-employed', 'Occ_technician/engineer',\n",
      "       'Occ_tradesman/craftsman', 'Occ_unemployed', 'Occ_writer', 'year',\n",
      "       'Action', 'Adventure', 'Animation', 'Children's', 'Comedy', 'Crime',\n",
      "       'Documentary', 'Drama', 'Fantasy', 'Film-Noir', 'Horror', 'Musical',\n",
      "       'Mystery', 'Romance', 'Sci-Fi', 'Thriller', 'War', 'Western'],\n",
      "      dtype='object')\n"
     ]
    }
   ],
   "source": [
    "X_wholeValidation = df.drop(labels=columnToDrop, axis=1)\n",
    "X_wholeValidation.drop(labels=['y_logit'], axis=1, inplace=True)\n",
    "print(X_wholeValidation.columns)"
   ]
  },
  {
   "cell_type": "code",
   "execution_count": 168,
   "id": "8ce3057d",
   "metadata": {},
   "outputs": [
    {
     "name": "stdout",
     "output_type": "stream",
     "text": [
      "[4 4 4 4 4]\n"
     ]
    }
   ],
   "source": [
    "# logit predict on X_wholeValidation\n",
    "y_logit_wholeValidation = multiLogit_model.predict(X_wholeValidation)\n",
    "print(y_logit_wholeValidation)"
   ]
  },
  {
   "cell_type": "code",
   "execution_count": 166,
   "id": "2291e6e0",
   "metadata": {},
   "outputs": [
    {
     "name": "stdout",
     "output_type": "stream",
     "text": [
      "      UserID  Age Zip-code  Sex  Occ_K-12 student  Occ_academic/educator  \\\n",
      "0       1018   18    95616    1                 0                      0   \n",
      "122     2106   18   495321    0                 0                      0   \n",
      "1022    2484   45    31901    1                 0                      0   \n",
      "1569    4448   25    06880    1                 0                      0   \n",
      "2583    5702   18    90034    1                 0                      0   \n",
      "\n",
      "      Occ_artist  Occ_clerical/admin  Occ_college/grad student  \\\n",
      "0              0                   0                         1   \n",
      "122            0                   0                         0   \n",
      "1022           0                   0                         0   \n",
      "1569           0                   0                         0   \n",
      "2583           0                   0                         0   \n",
      "\n",
      "      Occ_customer service  ...  Horror  Musical  Mystery  Romance  Sci-Fi  \\\n",
      "0                        0  ...       0        0        0        0       0   \n",
      "122                      0  ...       0        0        0        0       0   \n",
      "1022                     1  ...       0        0        0        0       1   \n",
      "1569                     0  ...       0        0        0        0       0   \n",
      "2583                     0  ...       0        0        0        1       0   \n",
      "\n",
      "      Thriller  War  Western  y_logit  y_logit_wholeValidation  \n",
      "0            0    0        0        4                      4.0  \n",
      "122          1    0        0        4                      NaN  \n",
      "1022         0    0        0        4                      NaN  \n",
      "1569         1    0        0        4                      NaN  \n",
      "2583         0    0        0        4                      NaN  \n",
      "\n",
      "[5 rows x 52 columns]\n"
     ]
    },
    {
     "name": "stderr",
     "output_type": "stream",
     "text": [
      "/var/folders/x7/fgmfdk0x5d5644vbvkfczk600000gn/T/ipykernel_56859/3697280985.py:4: SettingWithCopyWarning: \n",
      "A value is trying to be set on a copy of a slice from a DataFrame.\n",
      "Try using .loc[row_indexer,col_indexer] = value instead\n",
      "\n",
      "See the caveats in the documentation: https://pandas.pydata.org/pandas-docs/stable/user_guide/indexing.html#returning-a-view-versus-a-copy\n",
      "  finalPred['y_logit_wholeValidation'] = pd.Series(y_logit_wholeValidation)\n"
     ]
    }
   ],
   "source": [
    "finalPred = df\n",
    "finalPred['y_logit_wholeValidation'] = pd.Series(y_logit_wholeValidation)\n",
    "\n",
    "logitTop = finalPred.sort_values(by=['UserID','y_logit_wholeValidation'], ascending=[True,False]).groupby('UserID').head(5)\n",
    "print(logitTop)"
   ]
  },
  {
   "cell_type": "code",
   "execution_count": null,
   "id": "a58d7240",
   "metadata": {},
   "outputs": [],
   "source": [
    "# Linear regression on validation set\n",
    "y_validation_dmn = linearReg_model.predict(X_validation)\n",
    "df_validation['y_validation_dmn'] = pd.Series(y_validation_dmn)\n",
    "df_validation['y_linear'] = df_validation['y_validation_dmn']+df_validation['Rating_mn']\n",
    "print(df_validation[['y_linear','Rating']])\n"
   ]
  },
  {
   "cell_type": "code",
   "execution_count": 61,
   "id": "ed6e932a",
   "metadata": {},
   "outputs": [
    {
     "name": "stdout",
     "output_type": "stream",
     "text": [
      "Predicted Rating: 4. Actual Rating: 5\n"
     ]
    },
    {
     "name": "stderr",
     "output_type": "stream",
     "text": [
      "/Library/Frameworks/Python.framework/Versions/3.10/lib/python3.10/site-packages/sklearn/base.py:450: UserWarning: X does not have valid feature names, but LogisticRegression was fitted with feature names\n",
      "  warnings.warn(\n"
     ]
    }
   ],
   "source": [
    "index = 5555\n",
    "row = X.iloc[index]\n",
    "yhat = model.predict([row])\n",
    "yactual = y.iloc[index]\n",
    "print('Predicted Rating: %d. Actual Rating: %d' % (yhat[0], yactual))"
   ]
  }
 ],
 "metadata": {
  "kernelspec": {
   "display_name": "Python 3 (ipykernel)",
   "language": "python",
   "name": "python3"
  },
  "language_info": {
   "codemirror_mode": {
    "name": "ipython",
    "version": 3
   },
   "file_extension": ".py",
   "mimetype": "text/x-python",
   "name": "python",
   "nbconvert_exporter": "python",
   "pygments_lexer": "ipython3",
   "version": "3.10.5"
  },
  "toc": {
   "base_numbering": 1,
   "nav_menu": {},
   "number_sections": true,
   "sideBar": true,
   "skip_h1_title": false,
   "title_cell": "Table of Contents",
   "title_sidebar": "Contents",
   "toc_cell": false,
   "toc_position": {},
   "toc_section_display": true,
   "toc_window_display": false
  }
 },
 "nbformat": 4,
 "nbformat_minor": 5
}
