{
 "cells": [
  {
   "cell_type": "code",
   "execution_count": 1,
   "id": "2663fbe2",
   "metadata": {},
   "outputs": [],
   "source": [
    "# Formating\n",
    "import os \n",
    "import numpy as np\n",
    "import pandas as pd\n",
    "import re\n",
    "import matplotlib.pyplot as plt\n",
    "from pathlib import Path  \n",
    "from sklearn.linear_model import LogisticRegression, LinearRegression\n",
    "from sklearn.metrics import mean_squared_error\n",
    "from sklearn.model_selection import train_test_split, cross_val_score\n",
    "from sklearn.preprocessing import LabelEncoder\n",
    "import statsmodels.api as sm\n",
    "from numpy import mean\n",
    "from numpy import std"
   ]
  },
  {
   "cell_type": "code",
   "execution_count": 2,
   "id": "b4cd8034",
   "metadata": {},
   "outputs": [],
   "source": [
    "def saveData(name,df):\n",
    "    \"\"\"Create a 'cleaned' folder under the directory to save the csv files\"\"\"\n",
    "    parentPathName = os.getcwd() + '/cleaned/' \n",
    "    csvName = name + '.csv'\n",
    "    os.makedirs(parentPathName, exist_ok = True)\n",
    "    filepath = os.path.join(parentPathName, csvName)    \n",
    "    df.to_csv(filepath, index = False) \n",
    "    \n",
    "    return None"
   ]
  },
  {
   "cell_type": "code",
   "execution_count": 3,
   "id": "2ba76894",
   "metadata": {},
   "outputs": [],
   "source": [
    "def merge(user_df, rating_df, movie_df): \n",
    "    \"\"\"merge users, rating, and movies and print out shape. Rating_df change based on whether we are doing training, testing or validation   \"\"\"\n",
    "    print(rating_df.shape)\n",
    "    userRating_training = user_df.merge(rating_df, how='right', on='UserID')\n",
    "    print(userRating_training.shape)\n",
    "    userRating_training.drop(['Gender','Occupation','Occupation_encoded'], inplace = True, axis = 1)\n",
    "    df = userRating_training.merge(movie_df, how='left', on='MovieID')\n",
    "    print(df.shape)\n",
    "    return df"
   ]
  },
  {
   "cell_type": "code",
   "execution_count": 4,
   "id": "b17181df",
   "metadata": {},
   "outputs": [],
   "source": [
    "cleanPath = os.path.dirname(os.getcwd() + '/cleaned/')\n",
    "users = pd.read_csv(cleanPath + '/users.csv')\n",
    "ratings = pd.read_csv(cleanPath + '/ratings.csv')\n",
    "movies = pd.read_csv(cleanPath + '/movies.csv')\n",
    "training_rating = pd.read_csv(cleanPath + '/training_rating.csv')\n",
    "testing_rating = pd.read_csv(cleanPath + '/testing_rating.csv')\n",
    "validation_rating = pd.read_csv(cleanPath + '/validation_rating.csv')"
   ]
  },
  {
   "cell_type": "code",
   "execution_count": 5,
   "id": "382c1aeb",
   "metadata": {},
   "outputs": [
    {
     "name": "stdout",
     "output_type": "stream",
     "text": [
      "Index(['UserID', 'Gender', 'Age', 'Occupation', 'Zip-code'], dtype='object')\n",
      "UserID         int64\n",
      "Gender        object\n",
      "Age            int64\n",
      "Occupation     int64\n",
      "Zip-code      object\n",
      "dtype: object\n",
      "Index(['UserID', 'MovieID', 'Rating', 'Timestamp', 'Rating_mn', 'Rating_dmn'], dtype='object')\n",
      "UserID          int64\n",
      "MovieID         int64\n",
      "Rating          int64\n",
      "Timestamp      object\n",
      "Rating_mn     float64\n",
      "Rating_dmn    float64\n",
      "dtype: object\n",
      "Index(['MovieID', 'Title', 'year', 'Action', 'Adventure', 'Animation',\n",
      "       'Children's', 'Comedy', 'Crime', 'Documentary', 'Drama', 'Fantasy',\n",
      "       'Film-Noir', 'Horror', 'Musical', 'Mystery', 'Romance', 'Sci-Fi',\n",
      "       'Thriller', 'War', 'Western'],\n",
      "      dtype='object')\n",
      "MovieID         int64\n",
      "Title          object\n",
      "year            int64\n",
      "Action          int64\n",
      "Adventure       int64\n",
      "Animation       int64\n",
      "Children's      int64\n",
      "Comedy          int64\n",
      "Crime           int64\n",
      "Documentary     int64\n",
      "Drama           int64\n",
      "Fantasy         int64\n",
      "Film-Noir       int64\n",
      "Horror          int64\n",
      "Musical         int64\n",
      "Mystery         int64\n",
      "Romance         int64\n",
      "Sci-Fi          int64\n",
      "Thriller        int64\n",
      "War             int64\n",
      "Western         int64\n",
      "dtype: object\n"
     ]
    }
   ],
   "source": [
    "print(users.columns)\n",
    "print(users.dtypes)\n",
    "\n",
    "print(ratings.columns)\n",
    "print(ratings.dtypes)\n",
    "\n",
    "print(movies.columns)\n",
    "print(movies.dtypes)"
   ]
  },
  {
   "cell_type": "markdown",
   "id": "b491c030",
   "metadata": {},
   "source": [
    "## Necessary features encoding"
   ]
  },
  {
   "cell_type": "code",
   "execution_count": 6,
   "id": "79d71011",
   "metadata": {},
   "outputs": [
    {
     "name": "stdout",
     "output_type": "stream",
     "text": [
      "Index(['MovieID', 'Title', 'Action', 'Adventure', 'Animation', 'Children's',\n",
      "       'Comedy', 'Crime', 'Documentary', 'Drama', 'Fantasy', 'Film-Noir',\n",
      "       'Horror', 'Musical', 'Mystery', 'Romance', 'Sci-Fi', 'Thriller', 'War',\n",
      "       'Western'],\n",
      "      dtype='object')\n"
     ]
    }
   ],
   "source": [
    "# drop year\n",
    "movies = movies.drop(['year'], axis=1)\n",
    "print(movies.columns)\n",
    "# encode age\n",
    "users['Age'].replace({1: 1, 18: 2, 25: 3, 35: 4, 45: 5, 50: 6, 56:  7}, inplace=True)"
   ]
  },
  {
   "cell_type": "code",
   "execution_count": 7,
   "id": "41e55425",
   "metadata": {},
   "outputs": [
    {
     "name": "stdout",
     "output_type": "stream",
     "text": [
      "Index(['UserID', 'Gender', 'Age', 'Occupation', 'Zip-code', 'Sex',\n",
      "       'Occupation_encoded', 'Occ_K-12 student', 'Occ_academic/educator',\n",
      "       'Occ_artist', 'Occ_clerical/admin', 'Occ_college/grad student',\n",
      "       'Occ_customer service', 'Occ_doctor/health care',\n",
      "       'Occ_executive/managerial', 'Occ_farmer', 'Occ_homemaker', 'Occ_lawyer',\n",
      "       'Occ_other', 'Occ_programmer', 'Occ_retired', 'Occ_sales/marketing',\n",
      "       'Occ_scientist', 'Occ_self-employed', 'Occ_technician/engineer',\n",
      "       'Occ_tradesman/craftsman', 'Occ_unemployed', 'Occ_writer'],\n",
      "      dtype='object')\n"
     ]
    }
   ],
   "source": [
    "# Encode genders and occupation\n",
    "users['Sex'] = np.where(users['Gender'] == 'M',1,0)\n",
    "users['Occupation_encoded'] = users['Occupation'].map({0:\"other\", \n",
    "\t1:  \"academic/educator\",\n",
    "\t2:  \"artist\",\n",
    "\t3:  \"clerical/admin\",\n",
    "\t4:  \"college/grad student\",\n",
    "\t5:  \"customer service\",\n",
    "\t6:  \"doctor/health care\",\n",
    "\t7:  \"executive/managerial\",\n",
    "\t8:  \"farmer\",\n",
    "\t9:  \"homemaker\",\n",
    "\t10:  \"K-12 student\",\n",
    "\t11:  \"lawyer\",\n",
    "\t12:  \"programmer\",\n",
    "\t13:  \"retired\",\n",
    "\t14:  \"sales/marketing\",\n",
    "\t15:  \"scientist\",\n",
    "\t16:  \"self-employed\",\n",
    "\t17:  \"technician/engineer\",\n",
    "\t18:  \"tradesman/craftsman\",\n",
    "\t19:  \"unemployed\",\n",
    "\t20:  \"writer\"})\n",
    "pd.get_dummies(users['Occupation_encoded'], prefix = 'Occ')\n",
    "users = pd.concat([users,pd.get_dummies(users['Occupation_encoded'], prefix = 'Occ')], axis=1)\n",
    "print(users.columns)"
   ]
  },
  {
   "cell_type": "markdown",
   "id": "9e764fca",
   "metadata": {},
   "source": [
    "## Merge users, ratings and movies"
   ]
  },
  {
   "cell_type": "code",
   "execution_count": 8,
   "id": "249f6ed8",
   "metadata": {},
   "outputs": [
    {
     "name": "stdout",
     "output_type": "stream",
     "text": [
      "(971839, 6)\n",
      "(971839, 33)\n",
      "(971839, 49)\n",
      "(28346, 6)\n",
      "(28346, 33)\n",
      "(28346, 49)\n",
      "(2700, 6)\n",
      "(2700, 33)\n",
      "(2700, 49)\n"
     ]
    }
   ],
   "source": [
    "# merge user, training_rating, and movie\n",
    "df_training = merge(users,training_rating,movies)\n",
    "# merge user, testing_rating, and movie \n",
    "df_testing = merge(users,testing_rating,movies)\n",
    "# merge user, validation_rating and movie\n",
    "df_validation = merge(users,validation_rating,movies)"
   ]
  },
  {
   "cell_type": "code",
   "execution_count": 9,
   "id": "fd10cc23",
   "metadata": {},
   "outputs": [
    {
     "name": "stdout",
     "output_type": "stream",
     "text": [
      "(1000185, 41)\n",
      "Index(['Age', 'Sex', 'Occ_K-12 student', 'Occ_academic/educator', 'Occ_artist',\n",
      "       'Occ_clerical/admin', 'Occ_college/grad student',\n",
      "       'Occ_customer service', 'Occ_doctor/health care',\n",
      "       'Occ_executive/managerial', 'Occ_farmer', 'Occ_homemaker', 'Occ_lawyer',\n",
      "       'Occ_other', 'Occ_programmer', 'Occ_retired', 'Occ_sales/marketing',\n",
      "       'Occ_scientist', 'Occ_self-employed', 'Occ_technician/engineer',\n",
      "       'Occ_tradesman/craftsman', 'Occ_unemployed', 'Occ_writer', 'Action',\n",
      "       'Adventure', 'Animation', 'Children's', 'Comedy', 'Crime',\n",
      "       'Documentary', 'Drama', 'Fantasy', 'Film-Noir', 'Horror', 'Musical',\n",
      "       'Mystery', 'Romance', 'Sci-Fi', 'Thriller', 'War', 'Western'],\n",
      "      dtype='object')\n"
     ]
    }
   ],
   "source": [
    "columnToDrop = ['UserID','MovieID','Timestamp','Rating_mn','Rating_dmn','Title','Zip-code','Rating']\n",
    "X_train = df_training.drop(labels=columnToDrop, axis=1)\n",
    "X_test = df_testing.drop(labels=columnToDrop, axis=1)\n",
    "X = pd.concat([X_train,X_test])\n",
    "print(X.shape)\n",
    "X_validation = df_validation.drop(labels=columnToDrop, axis=1)\n",
    "\n",
    "y_train = df_training.Rating\n",
    "y_test = df_testing.Rating\n",
    "y = pd.concat([y_train,y_test])\n",
    "y_validation = df_validation.Rating\n",
    "\n",
    "y_train_dmn = df_training.Rating_dmn\n",
    "y_test_dmn = df_testing.Rating_dmn\n",
    "y_dmn = pd.concat([y_train_dmn,y_test_dmn])\n",
    "print(X_train.columns)\n",
    "y_validation_dmn = df_validation.Rating_dmn"
   ]
  },
  {
   "cell_type": "markdown",
   "id": "ab28cc5a",
   "metadata": {},
   "source": [
    "## Employ model "
   ]
  },
  {
   "cell_type": "code",
   "execution_count": 10,
   "id": "e02d4b3f",
   "metadata": {},
   "outputs": [
    {
     "name": "stdout",
     "output_type": "stream",
     "text": [
      "Root Mean Squared Error on Testing Set: 1.5138885423877277\n",
      "R^2 for training set: 0.028548990435729893\n",
      "R^2 for test set: -0.14460391639527126\n",
      "Mean RMSE: 1.028 (0.110)\n",
      "Mean R^2: 0.026 (0.008)\n"
     ]
    }
   ],
   "source": [
    "# define the linear regression model\n",
    "linearReg_model = LinearRegression()\n",
    "linearReg_model.fit(X_train,y_train_dmn)\n",
    "y_pred_dmn = linearReg_model.predict(X_test)\n",
    "# Compute and print R^2 and RMSE\n",
    "rmse = np.sqrt(mean_squared_error(y_test_dmn,y_pred_dmn))\n",
    "print(\"Root Mean Squared Error on Testing Set: {}\".format(rmse))\n",
    "print(\"R^2 for training set: {}\".format(linearReg_model.score(X_train, y_train_dmn)))\n",
    "print(\"R^2 for test set: {}\".format(linearReg_model.score(X_test, y_test_dmn)))\n",
    "\n",
    "\n",
    "linearReg_RMSE = cross_val_score(linearReg_model, X, y_dmn, scoring='neg_mean_squared_error', cv=10, n_jobs=-1)\n",
    "print('Mean RMSE: %.3f (%.3f)' % (-mean(linearReg_RMSE), std(linearReg_RMSE)))\n",
    "linearReg_r2 = cross_val_score(linearReg_model, X, y_dmn, scoring='r2', cv=10, n_jobs=-1)\n",
    "print('Mean R^2: %.3f (%.3f)' % (mean(linearReg_r2), std(linearReg_r2)))\n"
   ]
  },
  {
   "cell_type": "code",
   "execution_count": 11,
   "id": "70d9a6ec",
   "metadata": {},
   "outputs": [],
   "source": [
    "# define the multinomial logit model \n",
    "multiLogit_model = LogisticRegression(multi_class='multinomial', solver='sag', max_iter=150)\n",
    "multiLogit_model.fit(X_train,y_train)\n",
    "y_pred = multiLogit_model.predict(X_test)"
   ]
  },
  {
   "cell_type": "code",
   "execution_count": 12,
   "id": "6417fe2e",
   "metadata": {},
   "outputs": [
    {
     "name": "stdout",
     "output_type": "stream",
     "text": [
      "Root Mean Squared Error on Testing Set: 1.6342636727480004\n",
      "Mean RMSE: 1.428 (0.008)\n"
     ]
    }
   ],
   "source": [
    "# Compute RMSE on testing set\n",
    "rmse = np.sqrt(mean_squared_error(y_test,y_pred))\n",
    "print(\"Root Mean Squared Error on Testing Set: {}\".format(rmse))\n",
    "# Compute mean RMSE\n",
    "multiLogit_RMSE = cross_val_score(multiLogit_model, X, y, scoring='neg_mean_squared_error', cv=10, n_jobs=-1)\n",
    "print('Mean RMSE: %.3f (%.3f)' % (-mean(multiLogit_RMSE), std(multiLogit_RMSE)))\n",
    "# below: https://machinelearningmastery.com/multinomial-logistic-regression-with-python/\n",
    "# define the model evaluation procedure\n",
    "# cv = RepeatedStratifiedKFold(n_splits=10, n_repeats=3, random_state=1)"
   ]
  },
  {
   "cell_type": "markdown",
   "id": "073f7a0f",
   "metadata": {},
   "source": [
    "## Generate recommendation on all movies"
   ]
  },
  {
   "cell_type": "code",
   "execution_count": 50,
   "id": "7a158799",
   "metadata": {},
   "outputs": [
    {
     "name": "stdout",
     "output_type": "stream",
     "text": [
      "Index(['UserID', 'Age', 'Zip-code', 'Sex', 'Occ_K-12 student',\n",
      "       'Occ_academic/educator', 'Occ_artist', 'Occ_clerical/admin',\n",
      "       'Occ_college/grad student', 'Occ_customer service',\n",
      "       'Occ_doctor/health care', 'Occ_executive/managerial', 'Occ_farmer',\n",
      "       'Occ_homemaker', 'Occ_lawyer', 'Occ_other', 'Occ_programmer',\n",
      "       'Occ_retired', 'Occ_sales/marketing', 'Occ_scientist',\n",
      "       'Occ_self-employed', 'Occ_technician/engineer',\n",
      "       'Occ_tradesman/craftsman', 'Occ_unemployed', 'Occ_writer', 'MovieID',\n",
      "       'Rating', 'Timestamp', 'Rating_mn', 'Rating_dmn', 'Title', 'Action',\n",
      "       'Adventure', 'Animation', 'Children's', 'Comedy', 'Crime',\n",
      "       'Documentary', 'Drama', 'Fantasy', 'Film-Noir', 'Horror', 'Musical',\n",
      "       'Mystery', 'Romance', 'Sci-Fi', 'Thriller', 'War', 'Western'],\n",
      "      dtype='object')\n",
      "(5, 49)\n",
      "Index(['UserID', 'Age', 'Sex', 'Occ_K-12 student', 'Occ_academic/educator',\n",
      "       'Occ_artist', 'Occ_clerical/admin', 'Occ_college/grad student',\n",
      "       'Occ_customer service', 'Occ_doctor/health care',\n",
      "       'Occ_executive/managerial', 'Occ_farmer', 'Occ_homemaker', 'Occ_lawyer',\n",
      "       'Occ_other', 'Occ_programmer', 'Occ_retired', 'Occ_sales/marketing',\n",
      "       'Occ_scientist', 'Occ_self-employed', 'Occ_technician/engineer',\n",
      "       'Occ_tradesman/craftsman', 'Occ_unemployed', 'Occ_writer', 'MovieID',\n",
      "       'Title', 'Action', 'Adventure', 'Animation', 'Children's', 'Comedy',\n",
      "       'Crime', 'Documentary', 'Drama', 'Fantasy', 'Film-Noir', 'Horror',\n",
      "       'Musical', 'Mystery', 'Romance', 'Sci-Fi', 'Thriller', 'War',\n",
      "       'Western'],\n",
      "      dtype='object')\n",
      "(19415, 44)\n"
     ]
    }
   ],
   "source": [
    "# Get df_all with validation users charactersitics and all movie info\n",
    "df = df_validation.groupby('UserID', as_index=False).nth(0)\n",
    "print(df.columns)\n",
    "print(df.shape)\n",
    "df_user = df[['UserID','Age','Sex','Occ_K-12 student',\n",
    "       'Occ_academic/educator', 'Occ_artist', 'Occ_clerical/admin',\n",
    "       'Occ_college/grad student', 'Occ_customer service',\n",
    "       'Occ_doctor/health care', 'Occ_executive/managerial', 'Occ_farmer',\n",
    "       'Occ_homemaker', 'Occ_lawyer', 'Occ_other', 'Occ_programmer',\n",
    "       'Occ_retired', 'Occ_sales/marketing', 'Occ_scientist',\n",
    "       'Occ_self-employed', 'Occ_technician/engineer',\n",
    "       'Occ_tradesman/craftsman', 'Occ_unemployed', 'Occ_writer']]\n",
    "df_all = df_user.merge(movies, how='cross')\n",
    "print(df_all.columns)\n",
    "print(df_all.shape)"
   ]
  },
  {
   "cell_type": "code",
   "execution_count": 51,
   "id": "9294500a",
   "metadata": {},
   "outputs": [],
   "source": [
    "def getData(datAddress, columns):\n",
    "    \"\"\"Read in .dat file with '::' as sep\"\"\"\n",
    "    with open(datAddress, encoding=\"ISO-8859-1\") as f: \n",
    "        lists = [line.strip().split('::') for line in f.readlines()]\n",
    "        df = pd.DataFrame(lists, columns = columns)\n",
    "    return df "
   ]
  },
  {
   "cell_type": "code",
   "execution_count": 52,
   "id": "713cf44d",
   "metadata": {},
   "outputs": [],
   "source": [
    "movieRaw = getData('./ml-1m/movies.dat', ['MovieID','Title','Genres'])\n",
    "movieRaw['MovieID'] = movieRaw['MovieID'].astype(int)"
   ]
  },
  {
   "cell_type": "code",
   "execution_count": 54,
   "id": "527eacef",
   "metadata": {},
   "outputs": [
    {
     "name": "stdout",
     "output_type": "stream",
     "text": [
      "(19415, 45)\n",
      "(19415,)\n",
      "Index(['MovieID', 'Title', 'Genres', 'UserID', 'moviePredict'], dtype='object')\n",
      "       UserID                                            Title  MovieID  \\\n",
      "37       1018                              Patriot, The (2000)     3753   \n",
      "41       1018    Butterfly (La Lengua de las Mariposas) (2000)     3746   \n",
      "167      1018  Messenger: The Story of Joan of Arc, The (1999)     3053   \n",
      "202      1018                               Three Kings (1999)     2890   \n",
      "286      1018                            One Man's Hero (1999)     2235   \n",
      "3924     2106    Butterfly (La Lengua de las Mariposas) (2000)     3746   \n",
      "4050     2106  Messenger: The Story of Joan of Arc, The (1999)     3053   \n",
      "4169     2106                            One Man's Hero (1999)     2235   \n",
      "4435     2106                           Land Girls, The (1998)     1898   \n",
      "4461     2106                           Kurt & Courtney (1998)     1856   \n",
      "7807     2484    Butterfly (La Lengua de las Mariposas) (2000)     3746   \n",
      "7933     2484  Messenger: The Story of Joan of Arc, The (1999)     3053   \n",
      "8052     2484                            One Man's Hero (1999)     2235   \n",
      "8173     2484                       Ride with the Devil (1999)     3117   \n",
      "8205     2484                                 Dark City (1998)     1748   \n",
      "11690    4448    Butterfly (La Lengua de las Mariposas) (2000)     3746   \n",
      "11935    4448                            One Man's Hero (1999)     2235   \n",
      "12201    4448                           Land Girls, The (1998)     1898   \n",
      "12227    4448                           Kurt & Courtney (1998)     1856   \n",
      "12372    4448                                 Endurance (1998)     2627   \n",
      "15573    5702    Butterfly (La Lengua de las Mariposas) (2000)     3746   \n",
      "15699    5702  Messenger: The Story of Joan of Arc, The (1999)     3053   \n",
      "15818    5702                            One Man's Hero (1999)     2235   \n",
      "16084    5702                           Land Girls, The (1998)     1898   \n",
      "16110    5702                           Kurt & Courtney (1998)     1856   \n",
      "\n",
      "                          Genres  \n",
      "37              Action|Drama|War  \n",
      "41                     Drama|War  \n",
      "167                    Drama|War  \n",
      "202                    Drama|War  \n",
      "286                    Drama|War  \n",
      "3924                   Drama|War  \n",
      "4050                   Drama|War  \n",
      "4169                   Drama|War  \n",
      "4435                   Drama|War  \n",
      "4461         Documentary|Musical  \n",
      "7807                   Drama|War  \n",
      "7933                   Drama|War  \n",
      "8052                   Drama|War  \n",
      "8173           Drama|Romance|War  \n",
      "8205   Film-Noir|Sci-Fi|Thriller  \n",
      "11690                  Drama|War  \n",
      "11935                  Drama|War  \n",
      "12201                  Drama|War  \n",
      "12227        Documentary|Musical  \n",
      "12372          Documentary|Drama  \n",
      "15573                  Drama|War  \n",
      "15699                  Drama|War  \n",
      "15818                  Drama|War  \n",
      "16084                  Drama|War  \n",
      "16110        Documentary|Musical  \n"
     ]
    }
   ],
   "source": [
    "# logit predict on X_wholeValidation\n",
    "X_wholeValidation = df_all.drop(labels=['MovieID','Title','UserID'], axis=1)\n",
    "y_logit_wholeValidation = multiLogit_model.predict(X_wholeValidation)\n",
    "finalOutput = df_all.merge(ratings[['UserID','MovieID','Rating']], how=\"left\", on=['UserID','MovieID'])\n",
    "print(finalOutput.shape)\n",
    "print(y_logit_wholeValidation.shape)\n",
    "finalOutput['moviePredict'] = y_logit_wholeValidation\n",
    "finalOutput['moviePredict_excl'] = finalOutput['Rating'].isnull()*finalOutput['moviePredict']   \n",
    "finalOutput = movieRaw.merge(finalOutput[['UserID','MovieID','moviePredict_excl']], on = 'MovieID', how = 'right')\n",
    "finalOutput.rename(columns = {'moviePredict_excl':'moviePredict'}, inplace=True)\n",
    "print(finalOutput.columns)\n",
    "logitTop = finalOutput.sort_values(by=['UserID','moviePredict'], ascending=[True,False]).groupby('UserID').head(5)\n",
    "logitTop['Model'] = 'Logit'\n",
    "logitTop = logitTop[['UserID','Title','MovieID','Genres']]\n",
    "print(logitTop)\n",
    "saveData('logit_recommendation',logitTop)"
   ]
  },
  {
   "cell_type": "markdown",
   "id": "8baebd09",
   "metadata": {},
   "source": [
    "## Generate user persona "
   ]
  },
  {
   "cell_type": "code",
   "execution_count": 62,
   "id": "4a20d14c",
   "metadata": {},
   "outputs": [],
   "source": [
    "userPersona = validation_rating[['UserID']].merge(users, how='left', on='UserID')\n",
    "userPersona.drop_duplicates(keep='first', inplace=True)\n",
    "saveData('userPersona',userPersona)"
   ]
  },
  {
   "cell_type": "code",
   "execution_count": null,
   "id": "a58d7240",
   "metadata": {},
   "outputs": [],
   "source": [
    "# Linear regression on validation set\n",
    "y_validation_dmn = linearReg_model.predict(X_validation)\n",
    "df_validation['y_validation_dmn'] = pd.Series(y_validation_dmn)\n",
    "df_validation['y_linear'] = df_validation['y_validation_dmn']+df_validation['Rating_mn']\n",
    "print(df_validation[['y_linear','Rating']])\n"
   ]
  },
  {
   "cell_type": "code",
   "execution_count": 61,
   "id": "ed6e932a",
   "metadata": {},
   "outputs": [
    {
     "name": "stdout",
     "output_type": "stream",
     "text": [
      "Predicted Rating: 4. Actual Rating: 5\n"
     ]
    },
    {
     "name": "stderr",
     "output_type": "stream",
     "text": [
      "/Library/Frameworks/Python.framework/Versions/3.10/lib/python3.10/site-packages/sklearn/base.py:450: UserWarning: X does not have valid feature names, but LogisticRegression was fitted with feature names\n",
      "  warnings.warn(\n"
     ]
    }
   ],
   "source": [
    "index = 5555\n",
    "row = X.iloc[index]\n",
    "yhat = model.predict([row])\n",
    "yactual = y.iloc[index]\n",
    "print('Predicted Rating: %d. Actual Rating: %d' % (yhat[0], yactual))"
   ]
  }
 ],
 "metadata": {
  "kernelspec": {
   "display_name": "Python 3 (ipykernel)",
   "language": "python",
   "name": "python3"
  },
  "language_info": {
   "codemirror_mode": {
    "name": "ipython",
    "version": 3
   },
   "file_extension": ".py",
   "mimetype": "text/x-python",
   "name": "python",
   "nbconvert_exporter": "python",
   "pygments_lexer": "ipython3",
   "version": "3.10.5"
  },
  "toc": {
   "base_numbering": 1,
   "nav_menu": {},
   "number_sections": true,
   "sideBar": true,
   "skip_h1_title": false,
   "title_cell": "Table of Contents",
   "title_sidebar": "Contents",
   "toc_cell": false,
   "toc_position": {
    "height": "calc(100% - 180px)",
    "left": "10px",
    "top": "150px",
    "width": "165px"
   },
   "toc_section_display": true,
   "toc_window_display": true
  }
 },
 "nbformat": 4,
 "nbformat_minor": 5
}
