{
 "cells": [
  {
   "cell_type": "code",
   "execution_count": 1,
   "id": "f75e1fc7",
   "metadata": {},
   "outputs": [
    {
     "name": "stderr",
     "output_type": "stream",
     "text": [
      "/Library/Frameworks/Python.framework/Versions/3.10/lib/python3.10/site-packages/tqdm/auto.py:22: TqdmWarning: IProgress not found. Please update jupyter and ipywidgets. See https://ipywidgets.readthedocs.io/en/stable/user_install.html\n",
      "  from .autonotebook import tqdm as notebook_tqdm\n"
     ]
    }
   ],
   "source": [
    "# Formating\n",
    "import os \n",
    "import numpy as np\n",
    "import pandas as pd\n",
    "import pandas_profiling as pp\n",
    "import re\n",
    "from pathlib import Path  \n",
    "from datetime import datetime, date\n",
    "from time import strftime"
   ]
  },
  {
   "cell_type": "markdown",
   "id": "1106898a",
   "metadata": {},
   "source": [
    "## Reformating "
   ]
  },
  {
   "cell_type": "code",
   "execution_count": 59,
   "id": "15b9948a",
   "metadata": {},
   "outputs": [],
   "source": [
    "def getData(datAddress, columns):\n",
    "    \"\"\"Read in .dat file with '::' as sep\"\"\"\n",
    "    with open(datAddress, encoding=\"ISO-8859-1\") as f: \n",
    "        lists = [line.strip().split('::') for line in f.readlines()]\n",
    "        df = pd.DataFrame(lists, columns = columns)\n",
    "    return df "
   ]
  },
  {
   "cell_type": "code",
   "execution_count": 62,
   "id": "67946e84",
   "metadata": {},
   "outputs": [],
   "source": [
    "def saveData(name,df):\n",
    "    \"\"\"Create a 'cleaned' folder under the directory to save the csv files\"\"\"\n",
    "    parentPathName = os.getcwd() + '/cleaned/' \n",
    "    csvName = name + '.csv'\n",
    "    os.makedirs(parentPathName, exist_ok = True)\n",
    "    filepath = os.path.join(parentPathName, csvName)    \n",
    "    df.to_csv(filepath, index = False) \n",
    "    \n",
    "    return None"
   ]
  },
  {
   "cell_type": "code",
   "execution_count": 61,
   "id": "1fa14687",
   "metadata": {},
   "outputs": [
    {
     "name": "stdout",
     "output_type": "stream",
     "text": [
      "  UserID Gender Age Occupation Zip-code\n",
      "0      1      F   1         10    48067\n",
      "1      2      M  56         16    70072\n",
      "  MovieID             Title                        Genres\n",
      "0       1  Toy Story (1995)   Animation|Children's|Comedy\n",
      "1       2    Jumanji (1995)  Adventure|Children's|Fantasy\n",
      "  UserID MovieID Rating  Timestamp\n",
      "0      1    1193      5  978300760\n",
      "1      1     661      3  978302109\n"
     ]
    }
   ],
   "source": [
    "os.getcwd()\n",
    "userFile = './ml-1m/users.dat'\n",
    "movieFile = './ml-1m/movies.dat'\n",
    "ratingFile = './ml-1m/ratings.dat'\n",
    "\n",
    "userColumns = ['UserID','Gender','Age','Occupation','Zip-code']\n",
    "movieColumns = ['MovieID','Title','Genres']\n",
    "ratingColumns = ['UserID','MovieID','Rating','Timestamp']\n",
    "\n",
    "users = getData(userFile,userColumns)\n",
    "movies = getData(movieFile, movieColumns)\n",
    "ratings = getData(ratingFile, ratingColumns)\n",
    "# mv = pd.read_csv(file_m, sep='::',engine='python', header=None)\n",
    "print(users.head(2))\n",
    "print(movies.head(2))\n",
    "print(ratings.head(2))\n"
   ]
  },
  {
   "cell_type": "markdown",
   "id": "2b7c0a25",
   "metadata": {},
   "source": [
    "### Movies"
   ]
  },
  {
   "cell_type": "code",
   "execution_count": 63,
   "id": "b084ebaa",
   "metadata": {},
   "outputs": [
    {
     "name": "stdout",
     "output_type": "stream",
     "text": [
      "     MovieID                  Title  year  Action  Adventure  Animation  \\\n",
      "3882    3952  Contender, The (2000)  2000       0          0          0   \n",
      "3528    3597         Whipped (2000)  2000       0          0          0   \n",
      "\n",
      "      Children's  Comedy  Crime  Documentary  ...  Fantasy  Film-Noir  Horror  \\\n",
      "3882           0       0      0            0  ...        0          0       0   \n",
      "3528           0       1      0            0  ...        0          0       0   \n",
      "\n",
      "      Musical  Mystery  Romance  Sci-Fi  Thriller  War  Western  \n",
      "3882        0        0        0       0         1    0        0  \n",
      "3528        0        0        0       0         0    0        0  \n",
      "\n",
      "[2 rows x 21 columns]\n"
     ]
    }
   ],
   "source": [
    "# For movies, want to create new columns w/ year - extract the number within ()\n",
    "# *: matches zero or more occurrences of the pattern left to it\n",
    "# .: any character\n",
    "# .*: 0 or more of any characters\n",
    "movies['year'] = movies['Title'].astype('str').str.extractall('.*\\((\\d+)\\)*.').unstack().fillna('').sum(axis = 1).astype(int)\n",
    "\n",
    "# split genres\n",
    "movies = pd.concat([movies,movies.Genres.str.get_dummies(sep='|')], axis = 1)\n",
    "movies.sort_values('year',ascending = False, inplace = True)\n",
    "movies.drop(columns = 'Genres', inplace = True)\n",
    "print(movies.head(2))"
   ]
  },
  {
   "cell_type": "markdown",
   "id": "e77dcacb",
   "metadata": {},
   "source": [
    "### Ratings"
   ]
  },
  {
   "cell_type": "code",
   "execution_count": 64,
   "id": "11b9db0c",
   "metadata": {},
   "outputs": [],
   "source": [
    "ratings['Timestamp'] = pd.to_datetime(ratings['Timestamp'], unit = 's')"
   ]
  },
  {
   "cell_type": "markdown",
   "id": "5d6cbfe8",
   "metadata": {},
   "source": [
    "### Selecting Data"
   ]
  },
  {
   "cell_type": "code",
   "execution_count": null,
   "id": "e7dcc976",
   "metadata": {},
   "outputs": [],
   "source": [
    "# validation set (5 users)\n",
    "# user_validation = np.random.choice(rating_data['UserID'], 5)\n",
    "user_validation = ['2484', '4448', '2106', '5702', '1018']\n",
    "# dataset for training and testing\n",
    "rating_data_selected = rating_data[~rating_data['UserID'].isin(user_validation)]\n",
    "rating_data_selected['Rank_Latest'] = rating_data.groupby(['UserID', 'Rating'])['Timestamp'].rank(method='first',ascending=False)\n",
    "\n",
    "# dataset 1: training dataset\n",
    "training_rating = rating_data_selected[rating_data_selected['Rank_Latest'] != 1].drop(['Rank_Latest'], axis=1)\n",
    "# dataset 2: testing dataset\n",
    "testing_rating = rating_data_selected[rating_data_selected['Rank_Latest'] == 1].drop(['Rank_Latest'], axis=1)\n",
    "# dataset 3: validation dataset (5 users)\n",
    "validation_rating = rating_data[rating_data['UserID'].isin(user_validation)]"
   ]
  },
  {
   "cell_type": "code",
   "execution_count": 65,
   "id": "83e25b59",
   "metadata": {},
   "outputs": [],
   "source": [
    "saveData('movies',movies)\n",
    "saveData('ratings',ratings)\n",
    "saveData('users',users)\n",
    "saveData('training_rating',training_rating)\n",
    "saveData('testing_rating',testing_rating)\n",
    "saveData('validation_rating',validation_rating)"
   ]
  },
  {
   "cell_type": "markdown",
   "id": "c7d0b4d4",
   "metadata": {},
   "source": [
    "## Profiling\n",
    "- WARNING: profiling rating is super slow. \n"
   ]
  },
  {
   "cell_type": "code",
   "execution_count": null,
   "id": "de9b7c2f",
   "metadata": {},
   "outputs": [],
   "source": [
    "profilingPathName = os.getcwd() + '/profiling/' \n",
    "csvName = name + '.csv'\n",
    "os.makedirs(parentPathName, exist_ok = True)"
   ]
  },
  {
   "cell_type": "code",
   "execution_count": 64,
   "id": "14ecab39",
   "metadata": {},
   "outputs": [
    {
     "name": "stderr",
     "output_type": "stream",
     "text": [
      "Summarize dataset: 100%|██████████████| 27/27 [01:33<00:00,  3.45s/it, Completed]\n",
      "Generate report structure: 100%|███████████████████| 1/1 [00:00<00:00,  2.00it/s]\n",
      "Render HTML: 100%|█████████████████████████████████| 1/1 [00:03<00:00,  3.73s/it]\n",
      "Export report to file: 100%|██████████████████████| 1/1 [00:00<00:00, 116.27it/s]\n"
     ]
    }
   ],
   "source": [
    "users_profile = pp.ProfileReport(users)\n",
    "users_profile.to_file('users.html')"
   ]
  },
  {
   "cell_type": "code",
   "execution_count": 72,
   "id": "eaad523d",
   "metadata": {},
   "outputs": [
    {
     "name": "stderr",
     "output_type": "stream",
     "text": [
      "Summarize dataset: 100%|████████████| 26/26 [1:02:14<00:00, 143.62s/it, Completed]\n",
      "Generate report structure: 100%|████████████████████| 1/1 [00:00<00:00,  1.59it/s]\n",
      "Render HTML: 100%|██████████████████████████████████| 1/1 [00:05<00:00,  5.98s/it]\n",
      "Export report to file: 100%|████████████████████████| 1/1 [00:00<00:00, 81.76it/s]\n"
     ]
    }
   ],
   "source": [
    "# super slow \n",
    "ratings_profile = pp.ProfileReport(ratings)\n",
    "ratings_profile.to_file('ratings.html')"
   ]
  },
  {
   "cell_type": "code",
   "execution_count": 71,
   "id": "7b6fd72f",
   "metadata": {},
   "outputs": [
    {
     "name": "stderr",
     "output_type": "stream",
     "text": [
      "Summarize dataset: 100%|██████████████| 44/44 [01:41<00:00,  2.31s/it, Completed]\n",
      "Generate report structure: 100%|███████████████████| 1/1 [00:02<00:00,  2.26s/it]\n",
      "Render HTML: 100%|█████████████████████████████████| 1/1 [00:02<00:00,  2.90s/it]\n",
      "Export report to file: 100%|██████████████████████| 1/1 [00:00<00:00, 138.73it/s]\n"
     ]
    }
   ],
   "source": [
    "movies_profile = pp.ProfileReport(movies)\n",
    "movies_profile.to_file('movies.html')\n"
   ]
  },
  {
   "cell_type": "markdown",
   "id": "48c375c7",
   "metadata": {},
   "source": [
    "## Recommendation system website \n",
    "- https://towardsdatascience.com/introduction-to-recommender-systems-6c66cf15ada \n",
    "- https://towardsdatascience.com/a-complete-guide-to-recommender-system-tutorial-with-sklearn-surprise-keras-recommender-5e52e8ceace1\n",
    "- https://www.kaggle.com/search?q=movie+recommend \n",
    "- MovieLens specific \n",
    "    - https://github.com/topics/movie-lens"
   ]
  }
 ],
 "metadata": {
  "kernelspec": {
   "display_name": "Python 3 (ipykernel)",
   "language": "python",
   "name": "python3"
  },
  "language_info": {
   "codemirror_mode": {
    "name": "ipython",
    "version": 3
   },
   "file_extension": ".py",
   "mimetype": "text/x-python",
   "name": "python",
   "nbconvert_exporter": "python",
   "pygments_lexer": "ipython3",
   "version": "3.10.5"
  },
  "toc": {
   "base_numbering": 1,
   "nav_menu": {},
   "number_sections": true,
   "sideBar": true,
   "skip_h1_title": false,
   "title_cell": "Table of Contents",
   "title_sidebar": "Contents",
   "toc_cell": false,
   "toc_position": {},
   "toc_section_display": true,
   "toc_window_display": true
  }
 },
 "nbformat": 4,
 "nbformat_minor": 5
}
